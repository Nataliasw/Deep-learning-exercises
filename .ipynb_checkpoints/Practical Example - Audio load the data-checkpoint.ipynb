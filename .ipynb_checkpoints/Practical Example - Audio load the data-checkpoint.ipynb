{
 "cells": [
  {
   "cell_type": "code",
   "execution_count": 1,
   "id": "f9356e6f",
   "metadata": {},
   "outputs": [],
   "source": [
    "import numpy as np\n",
    "import tensorflow as tf\n"
   ]
  },
  {
   "cell_type": "code",
   "execution_count": 20,
   "id": "48abfcca",
   "metadata": {},
   "outputs": [],
   "source": [
    "npz = np.load('Audiobooks_data_train.npz')\n",
    "\n",
    "train_inputs = npz['inputs'].astype(float)\n",
    "\n",
    "train_targets = npz['targets'].astype(int)\n",
    "\n",
    "npz = np.load('Audiobooks_data_validation.npz')\n",
    "validation_inputs, validation_targets = npz['inputs'].astype(float), npz['targets'].astype(int)\n",
    "\n",
    "npz_test = np.load('Audiobooks_data_test.npz')\n",
    "\n",
    "test_inputs = npz_test['inputs'].astype(float)\n",
    "test_targets = npz_test['targets'].astype(int)\n",
    "\n"
   ]
  },
  {
   "cell_type": "code",
   "execution_count": 21,
   "id": "491c28c1",
   "metadata": {},
   "outputs": [],
   "source": [
    "input_size = 10\n",
    "output_size = 2\n",
    "hidden_layer_size = 50\n",
    "\n",
    "model = tf.keras.Sequential([\n",
    "    tf.keras.layers.Dense(hidden_layer_size, activation='relu'),\n",
    "    tf.keras.layers.Dense(hidden_layer_size, activation='relu'),\n",
    "    tf.keras.layers.Dense(output_size, activation='softmax')\n",
    "])\n",
    "\n",
    "model.compile(optimizer='adam', loss='sparse_categorical_crossentropy', metrics=['accuracy'])"
   ]
  },
  {
   "cell_type": "code",
   "execution_count": 22,
   "id": "a06c9218",
   "metadata": {},
   "outputs": [
    {
     "name": "stdout",
     "output_type": "stream",
     "text": [
      "Epoch 1/100\n",
      "30/30 - 1s - loss: 0.5885 - accuracy: 0.7139 - val_loss: 0.5261 - val_accuracy: 0.7315 - 584ms/epoch - 19ms/step\n",
      "Epoch 2/100\n",
      "30/30 - 0s - loss: 0.4732 - accuracy: 0.7773 - val_loss: 0.4557 - val_accuracy: 0.7785 - 58ms/epoch - 2ms/step\n",
      "Epoch 3/100\n",
      "30/30 - 0s - loss: 0.4196 - accuracy: 0.7868 - val_loss: 0.4260 - val_accuracy: 0.7919 - 50ms/epoch - 2ms/step\n",
      "Epoch 4/100\n",
      "30/30 - 0s - loss: 0.3947 - accuracy: 0.7946 - val_loss: 0.4006 - val_accuracy: 0.7987 - 49ms/epoch - 2ms/step\n",
      "Epoch 5/100\n",
      "30/30 - 0s - loss: 0.3782 - accuracy: 0.7960 - val_loss: 0.3923 - val_accuracy: 0.7987 - 53ms/epoch - 2ms/step\n",
      "Epoch 6/100\n",
      "30/30 - 0s - loss: 0.3686 - accuracy: 0.7999 - val_loss: 0.3819 - val_accuracy: 0.8121 - 55ms/epoch - 2ms/step\n",
      "Epoch 7/100\n",
      "30/30 - 0s - loss: 0.3577 - accuracy: 0.8036 - val_loss: 0.3747 - val_accuracy: 0.8009 - 53ms/epoch - 2ms/step\n",
      "Epoch 8/100\n",
      "30/30 - 0s - loss: 0.3550 - accuracy: 0.8061 - val_loss: 0.3665 - val_accuracy: 0.8121 - 55ms/epoch - 2ms/step\n",
      "Epoch 9/100\n",
      "30/30 - 0s - loss: 0.3473 - accuracy: 0.8086 - val_loss: 0.3617 - val_accuracy: 0.8098 - 86ms/epoch - 3ms/step\n",
      "Epoch 10/100\n",
      "30/30 - 0s - loss: 0.3434 - accuracy: 0.8100 - val_loss: 0.3597 - val_accuracy: 0.8255 - 61ms/epoch - 2ms/step\n",
      "Epoch 11/100\n",
      "30/30 - 0s - loss: 0.3411 - accuracy: 0.8139 - val_loss: 0.3556 - val_accuracy: 0.8255 - 50ms/epoch - 2ms/step\n",
      "Epoch 12/100\n",
      "30/30 - 0s - loss: 0.3371 - accuracy: 0.8117 - val_loss: 0.3560 - val_accuracy: 0.8210 - 52ms/epoch - 2ms/step\n",
      "Epoch 13/100\n",
      "30/30 - 0s - loss: 0.3359 - accuracy: 0.8167 - val_loss: 0.3594 - val_accuracy: 0.8076 - 51ms/epoch - 2ms/step\n"
     ]
    },
    {
     "data": {
      "text/plain": [
       "<keras.callbacks.History at 0x1fafc437430>"
      ]
     },
     "execution_count": 22,
     "metadata": {},
     "output_type": "execute_result"
    }
   ],
   "source": [
    "BATCH_SIZE = 120\n",
    "MAX_EPOCHS = 100\n",
    "\n",
    "early_stopping = tf.keras.callbacks.EarlyStopping(patience=2)\n",
    "\n",
    "model.fit(train_inputs,\n",
    "          train_targets,\n",
    "          batch_size = BATCH_SIZE,\n",
    "          epochs = MAX_EPOCHS,\n",
    "          callbacks =[early_stopping],\n",
    "          validation_data=(validation_inputs,validation_targets),\n",
    "          verbose=2)\n"
   ]
  },
  {
   "cell_type": "code",
   "execution_count": 23,
   "id": "3d314eca",
   "metadata": {},
   "outputs": [
    {
     "name": "stdout",
     "output_type": "stream",
     "text": [
      "14/14 [==============================] - 0s 2ms/step - loss: 0.3683 - accuracy: 0.7857\n"
     ]
    }
   ],
   "source": [
    "test_loss, test_accuracy = model.evaluate(test_inputs,test_targets)"
   ]
  },
  {
   "cell_type": "code",
   "execution_count": null,
   "id": "48d62b8e",
   "metadata": {},
   "outputs": [],
   "source": []
  }
 ],
 "metadata": {
  "kernelspec": {
   "display_name": "py3-TF2.0",
   "language": "python",
   "name": "py3-tf2.0"
  },
  "language_info": {
   "codemirror_mode": {
    "name": "ipython",
    "version": 3
   },
   "file_extension": ".py",
   "mimetype": "text/x-python",
   "name": "python",
   "nbconvert_exporter": "python",
   "pygments_lexer": "ipython3",
   "version": "3.8.12"
  }
 },
 "nbformat": 4,
 "nbformat_minor": 5
}
