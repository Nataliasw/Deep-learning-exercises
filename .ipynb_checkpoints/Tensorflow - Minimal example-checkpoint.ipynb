{
 "cells": [
  {
   "cell_type": "code",
   "execution_count": 1,
   "id": "14ca5ccc",
   "metadata": {},
   "outputs": [],
   "source": [
    "import numpy as np\n",
    "import matplotlib.pyplot as plt\n",
    "import tensorflow as tf"
   ]
  },
  {
   "cell_type": "code",
   "execution_count": 2,
   "id": "1df12c83",
   "metadata": {},
   "outputs": [],
   "source": [
    "observations = 10000\n",
    "xs = np.random.uniform(-10,10,(observations,1))\n",
    "zs = np.random.uniform(-10,10,(observations,1))\n",
    "generated_inputs = np.column_stack((xs,zs))\n",
    "noise = np.random.uniform(-1,1,(observations,1))\n",
    "generated_targets = 2 * xs - 3 * zs + 5 + noise\n",
    "np.savez('TF_intro', inputs=generated_inputs,targets=generated_targets)\n"
   ]
  },
  {
   "cell_type": "code",
   "execution_count": 4,
   "id": "9372211d",
   "metadata": {},
   "outputs": [
    {
     "name": "stdout",
     "output_type": "stream",
     "text": [
      "Epoch 1/100\n",
      "313/313 - 1s - loss: 4.7787 - 588ms/epoch - 2ms/step\n",
      "Epoch 2/100\n",
      "313/313 - 0s - loss: 0.7664 - 220ms/epoch - 704us/step\n",
      "Epoch 3/100\n",
      "313/313 - 0s - loss: 0.1743 - 241ms/epoch - 771us/step\n",
      "Epoch 4/100\n",
      "313/313 - 0s - loss: 0.1688 - 224ms/epoch - 714us/step\n",
      "Epoch 5/100\n",
      "313/313 - 0s - loss: 0.1690 - 226ms/epoch - 721us/step\n",
      "Epoch 6/100\n",
      "313/313 - 0s - loss: 0.1687 - 229ms/epoch - 731us/step\n",
      "Epoch 7/100\n",
      "313/313 - 0s - loss: 0.1688 - 228ms/epoch - 728us/step\n",
      "Epoch 8/100\n",
      "313/313 - 0s - loss: 0.1687 - 220ms/epoch - 701us/step\n",
      "Epoch 9/100\n",
      "313/313 - 0s - loss: 0.1691 - 247ms/epoch - 790us/step\n",
      "Epoch 10/100\n",
      "313/313 - 0s - loss: 0.1686 - 231ms/epoch - 740us/step\n",
      "Epoch 11/100\n",
      "313/313 - 0s - loss: 0.1689 - 229ms/epoch - 730us/step\n",
      "Epoch 12/100\n",
      "313/313 - 0s - loss: 0.1693 - 225ms/epoch - 720us/step\n",
      "Epoch 13/100\n",
      "313/313 - 0s - loss: 0.1691 - 224ms/epoch - 717us/step\n",
      "Epoch 14/100\n",
      "313/313 - 0s - loss: 0.1693 - 226ms/epoch - 722us/step\n",
      "Epoch 15/100\n",
      "313/313 - 0s - loss: 0.1690 - 230ms/epoch - 736us/step\n",
      "Epoch 16/100\n",
      "313/313 - 0s - loss: 0.1686 - 280ms/epoch - 893us/step\n",
      "Epoch 17/100\n",
      "313/313 - 0s - loss: 0.1687 - 278ms/epoch - 887us/step\n",
      "Epoch 18/100\n",
      "313/313 - 0s - loss: 0.1691 - 239ms/epoch - 765us/step\n",
      "Epoch 19/100\n",
      "313/313 - 0s - loss: 0.1689 - 237ms/epoch - 757us/step\n",
      "Epoch 20/100\n",
      "313/313 - 0s - loss: 0.1692 - 238ms/epoch - 762us/step\n",
      "Epoch 21/100\n",
      "313/313 - 0s - loss: 0.1686 - 220ms/epoch - 704us/step\n",
      "Epoch 22/100\n",
      "313/313 - 0s - loss: 0.1686 - 232ms/epoch - 741us/step\n",
      "Epoch 23/100\n",
      "313/313 - 0s - loss: 0.1691 - 227ms/epoch - 727us/step\n",
      "Epoch 24/100\n",
      "313/313 - 0s - loss: 0.1692 - 229ms/epoch - 732us/step\n",
      "Epoch 25/100\n",
      "313/313 - 0s - loss: 0.1687 - 230ms/epoch - 733us/step\n",
      "Epoch 26/100\n",
      "313/313 - 0s - loss: 0.1686 - 236ms/epoch - 754us/step\n",
      "Epoch 27/100\n",
      "313/313 - 0s - loss: 0.1684 - 229ms/epoch - 731us/step\n",
      "Epoch 28/100\n",
      "313/313 - 0s - loss: 0.1691 - 227ms/epoch - 725us/step\n",
      "Epoch 29/100\n",
      "313/313 - 0s - loss: 0.1690 - 227ms/epoch - 724us/step\n",
      "Epoch 30/100\n",
      "313/313 - 0s - loss: 0.1683 - 222ms/epoch - 710us/step\n",
      "Epoch 31/100\n",
      "313/313 - 0s - loss: 0.1688 - 267ms/epoch - 853us/step\n",
      "Epoch 32/100\n",
      "313/313 - 0s - loss: 0.1686 - 238ms/epoch - 760us/step\n",
      "Epoch 33/100\n",
      "313/313 - 0s - loss: 0.1686 - 280ms/epoch - 895us/step\n",
      "Epoch 34/100\n",
      "313/313 - 0s - loss: 0.1694 - 252ms/epoch - 805us/step\n",
      "Epoch 35/100\n",
      "313/313 - 0s - loss: 0.1689 - 225ms/epoch - 719us/step\n",
      "Epoch 36/100\n",
      "313/313 - 0s - loss: 0.1688 - 260ms/epoch - 830us/step\n",
      "Epoch 37/100\n",
      "313/313 - 0s - loss: 0.1691 - 222ms/epoch - 710us/step\n",
      "Epoch 38/100\n",
      "313/313 - 0s - loss: 0.1694 - 233ms/epoch - 746us/step\n",
      "Epoch 39/100\n",
      "313/313 - 0s - loss: 0.1690 - 227ms/epoch - 726us/step\n",
      "Epoch 40/100\n",
      "313/313 - 0s - loss: 0.1692 - 236ms/epoch - 753us/step\n",
      "Epoch 41/100\n",
      "313/313 - 0s - loss: 0.1690 - 233ms/epoch - 743us/step\n",
      "Epoch 42/100\n",
      "313/313 - 0s - loss: 0.1689 - 232ms/epoch - 742us/step\n",
      "Epoch 43/100\n",
      "313/313 - 0s - loss: 0.1688 - 213ms/epoch - 679us/step\n",
      "Epoch 44/100\n",
      "313/313 - 0s - loss: 0.1691 - 229ms/epoch - 731us/step\n",
      "Epoch 45/100\n",
      "313/313 - 0s - loss: 0.1689 - 253ms/epoch - 810us/step\n",
      "Epoch 46/100\n",
      "313/313 - 0s - loss: 0.1687 - 221ms/epoch - 705us/step\n",
      "Epoch 47/100\n",
      "313/313 - 0s - loss: 0.1685 - 220ms/epoch - 704us/step\n",
      "Epoch 48/100\n",
      "313/313 - 0s - loss: 0.1687 - 238ms/epoch - 761us/step\n",
      "Epoch 49/100\n",
      "313/313 - 0s - loss: 0.1690 - 227ms/epoch - 725us/step\n",
      "Epoch 50/100\n",
      "313/313 - 0s - loss: 0.1685 - 235ms/epoch - 752us/step\n",
      "Epoch 51/100\n",
      "313/313 - 0s - loss: 0.1687 - 226ms/epoch - 723us/step\n",
      "Epoch 52/100\n",
      "313/313 - 0s - loss: 0.1691 - 224ms/epoch - 717us/step\n",
      "Epoch 53/100\n",
      "313/313 - 0s - loss: 0.1685 - 222ms/epoch - 709us/step\n",
      "Epoch 54/100\n",
      "313/313 - 0s - loss: 0.1689 - 238ms/epoch - 761us/step\n",
      "Epoch 55/100\n",
      "313/313 - 0s - loss: 0.1687 - 227ms/epoch - 726us/step\n",
      "Epoch 56/100\n",
      "313/313 - 0s - loss: 0.1691 - 227ms/epoch - 725us/step\n",
      "Epoch 57/100\n",
      "313/313 - 0s - loss: 0.1688 - 225ms/epoch - 718us/step\n",
      "Epoch 58/100\n",
      "313/313 - 0s - loss: 0.1689 - 209ms/epoch - 667us/step\n",
      "Epoch 59/100\n",
      "313/313 - 0s - loss: 0.1685 - 234ms/epoch - 748us/step\n",
      "Epoch 60/100\n",
      "313/313 - 0s - loss: 0.1688 - 224ms/epoch - 715us/step\n",
      "Epoch 61/100\n",
      "313/313 - 0s - loss: 0.1687 - 230ms/epoch - 734us/step\n",
      "Epoch 62/100\n",
      "313/313 - 0s - loss: 0.1686 - 237ms/epoch - 758us/step\n",
      "Epoch 63/100\n",
      "313/313 - 0s - loss: 0.1687 - 231ms/epoch - 737us/step\n",
      "Epoch 64/100\n",
      "313/313 - 0s - loss: 0.1690 - 229ms/epoch - 732us/step\n",
      "Epoch 65/100\n",
      "313/313 - 0s - loss: 0.1688 - 228ms/epoch - 728us/step\n",
      "Epoch 66/100\n",
      "313/313 - 0s - loss: 0.1691 - 229ms/epoch - 731us/step\n",
      "Epoch 67/100\n",
      "313/313 - 0s - loss: 0.1687 - 229ms/epoch - 733us/step\n",
      "Epoch 68/100\n",
      "313/313 - 0s - loss: 0.1689 - 231ms/epoch - 737us/step\n",
      "Epoch 69/100\n",
      "313/313 - 0s - loss: 0.1691 - 229ms/epoch - 731us/step\n",
      "Epoch 70/100\n",
      "313/313 - 0s - loss: 0.1689 - 228ms/epoch - 730us/step\n",
      "Epoch 71/100\n",
      "313/313 - 0s - loss: 0.1687 - 224ms/epoch - 717us/step\n",
      "Epoch 72/100\n",
      "313/313 - 0s - loss: 0.1688 - 220ms/epoch - 703us/step\n",
      "Epoch 73/100\n",
      "313/313 - 0s - loss: 0.1690 - 228ms/epoch - 727us/step\n",
      "Epoch 74/100\n",
      "313/313 - 0s - loss: 0.1688 - 227ms/epoch - 726us/step\n",
      "Epoch 75/100\n",
      "313/313 - 0s - loss: 0.1686 - 224ms/epoch - 715us/step\n",
      "Epoch 76/100\n",
      "313/313 - 0s - loss: 0.1694 - 227ms/epoch - 726us/step\n",
      "Epoch 77/100\n",
      "313/313 - 0s - loss: 0.1688 - 234ms/epoch - 747us/step\n",
      "Epoch 78/100\n",
      "313/313 - 0s - loss: 0.1687 - 221ms/epoch - 707us/step\n",
      "Epoch 79/100\n",
      "313/313 - 0s - loss: 0.1686 - 233ms/epoch - 744us/step\n",
      "Epoch 80/100\n",
      "313/313 - 0s - loss: 0.1690 - 228ms/epoch - 728us/step\n",
      "Epoch 81/100\n",
      "313/313 - 0s - loss: 0.1685 - 234ms/epoch - 747us/step\n",
      "Epoch 82/100\n",
      "313/313 - 0s - loss: 0.1691 - 224ms/epoch - 716us/step\n",
      "Epoch 83/100\n",
      "313/313 - 0s - loss: 0.1694 - 245ms/epoch - 783us/step\n",
      "Epoch 84/100\n",
      "313/313 - 0s - loss: 0.1688 - 231ms/epoch - 739us/step\n",
      "Epoch 85/100\n",
      "313/313 - 0s - loss: 0.1689 - 233ms/epoch - 746us/step\n",
      "Epoch 86/100\n",
      "313/313 - 0s - loss: 0.1685 - 234ms/epoch - 747us/step\n",
      "Epoch 87/100\n",
      "313/313 - 0s - loss: 0.1688 - 227ms/epoch - 727us/step\n",
      "Epoch 88/100\n",
      "313/313 - 0s - loss: 0.1687 - 233ms/epoch - 746us/step\n",
      "Epoch 89/100\n",
      "313/313 - 0s - loss: 0.1684 - 226ms/epoch - 721us/step\n",
      "Epoch 90/100\n",
      "313/313 - 0s - loss: 0.1684 - 233ms/epoch - 745us/step\n",
      "Epoch 91/100\n",
      "313/313 - 0s - loss: 0.1688 - 226ms/epoch - 721us/step\n",
      "Epoch 92/100\n",
      "313/313 - 0s - loss: 0.1688 - 213ms/epoch - 681us/step\n",
      "Epoch 93/100\n",
      "313/313 - 0s - loss: 0.1684 - 220ms/epoch - 703us/step\n",
      "Epoch 94/100\n",
      "313/313 - 0s - loss: 0.1690 - 227ms/epoch - 725us/step\n",
      "Epoch 95/100\n",
      "313/313 - 0s - loss: 0.1688 - 231ms/epoch - 739us/step\n",
      "Epoch 96/100\n",
      "313/313 - 0s - loss: 0.1692 - 234ms/epoch - 749us/step\n",
      "Epoch 97/100\n",
      "313/313 - 0s - loss: 0.1690 - 234ms/epoch - 749us/step\n",
      "Epoch 98/100\n",
      "313/313 - 0s - loss: 0.1686 - 242ms/epoch - 772us/step\n",
      "Epoch 99/100\n",
      "313/313 - 0s - loss: 0.1690 - 232ms/epoch - 742us/step\n",
      "Epoch 100/100\n",
      "313/313 - 0s - loss: 0.1691 - 218ms/epoch - 697us/step\n"
     ]
    },
    {
     "data": {
      "text/plain": [
       "<keras.callbacks.History at 0x2936199fe50>"
      ]
     },
     "execution_count": 4,
     "metadata": {},
     "output_type": "execute_result"
    }
   ],
   "source": [
    "training_data = np.load('TF_intro.npz')\n",
    "input_size = 2\n",
    "output_size = 1\n",
    "\n",
    "model = tf.keras.Sequential([\n",
    "    tf.keras.layers.Dense(output_size,\n",
    "                         kernel_initializer = tf.random_uniform_initializer(minval=-0.1,maxval=0.1),\n",
    "                        bias_initializer =tf.random_uniform_initializer(minval=-0.1,maxval=0.1)\n",
    "                         )\n",
    "])\n",
    "custom_initializer= tf.keras.optimizers.SGD(learning_rate=0.02)\n",
    "\n",
    "model.compile(optimizer='sgd', loss='huber_loss')\n",
    "model.fit(training_data['inputs'],training_data['targets'],epochs=100,verbose=2)"
   ]
  },
  {
   "cell_type": "code",
   "execution_count": 5,
   "id": "ca16c51e",
   "metadata": {},
   "outputs": [
    {
     "data": {
      "text/plain": [
       "[array([[ 2.015967],\n",
       "        [-2.993433]], dtype=float32),\n",
       " array([4.9964027], dtype=float32)]"
      ]
     },
     "execution_count": 5,
     "metadata": {},
     "output_type": "execute_result"
    }
   ],
   "source": [
    "model.layers[0].get_weights()"
   ]
  },
  {
   "cell_type": "code",
   "execution_count": 6,
   "id": "12dc86ce",
   "metadata": {},
   "outputs": [
    {
     "data": {
      "text/plain": [
       "array([[13.5],\n",
       "       [13. ],\n",
       "       [-3.8],\n",
       "       ...,\n",
       "       [31. ],\n",
       "       [34.4],\n",
       "       [20.6]], dtype=float32)"
      ]
     },
     "execution_count": 6,
     "metadata": {},
     "output_type": "execute_result"
    }
   ],
   "source": [
    "model.predict_on_batch(training_data['inputs']).round(1)"
   ]
  },
  {
   "cell_type": "code",
   "execution_count": 7,
   "id": "20a77a65",
   "metadata": {},
   "outputs": [
    {
     "data": {
      "text/plain": [
       "array([[13.83],\n",
       "       [12.65],\n",
       "       [-4.05],\n",
       "       ...,\n",
       "       [31.98],\n",
       "       [35.22],\n",
       "       [21.74]])"
      ]
     },
     "execution_count": 7,
     "metadata": {},
     "output_type": "execute_result"
    }
   ],
   "source": [
    "training_data['targets'].round(2)\n"
   ]
  },
  {
   "cell_type": "code",
   "execution_count": null,
   "id": "89818d7d",
   "metadata": {},
   "outputs": [],
   "source": []
  }
 ],
 "metadata": {
  "kernelspec": {
   "display_name": "py3-TF2.0",
   "language": "python",
   "name": "py3-tf2.0"
  },
  "language_info": {
   "codemirror_mode": {
    "name": "ipython",
    "version": 3
   },
   "file_extension": ".py",
   "mimetype": "text/x-python",
   "name": "python",
   "nbconvert_exporter": "python",
   "pygments_lexer": "ipython3",
   "version": "3.8.12"
  }
 },
 "nbformat": 4,
 "nbformat_minor": 5
}
